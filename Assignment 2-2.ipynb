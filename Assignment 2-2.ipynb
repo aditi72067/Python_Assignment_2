{
 "cells": [
  {
   "cell_type": "markdown",
   "id": "8fcc4bf9-1091-44ed-84aa-1029123c011f",
   "metadata": {},
   "source": [
    "# Assignment_2\n",
    "# Course:-Python_Programming\n",
    "# Name:- Aditi Aggarwal\n",
    "# SAP_Id:- 590015334"
   ]
  },
  {
   "cell_type": "markdown",
   "id": "7c6c2a19-77df-4c33-8cdc-6507ff213bd3",
   "metadata": {},
   "source": [
    "# 1:- Basic Function Implementation:-\n",
    "# Write a function  greet that takes two arguments ; name(a string) and greeting (a string with a default value of \"Hello\".This function should return  a greeting message\n"
   ]
  },
  {
   "cell_type": "code",
   "execution_count": 1,
   "id": "02583f96-7331-4e3d-a0d0-6011f6ab0880",
   "metadata": {},
   "outputs": [
    {
     "name": "stdout",
     "output_type": "stream",
     "text": [
      "Hello Alice\n",
      "Good Morning Bob\n"
     ]
    }
   ],
   "source": [
    "def greet(name, greeting=\"Hello\"):\n",
    "    return f\"{greeting} {name}\"\n",
    "\n",
    "# calling the function \n",
    "print(greet(\"Alice\"))          \n",
    "print(greet(\"Bob\",\"Good Morning\"))\n"
   ]
  },
  {
   "cell_type": "markdown",
   "id": "a0f6aa23-d677-4b2e-9b98-ae9f7fb03539",
   "metadata": {},
   "source": [
    "# 2:- Named Arguments:-"
   ]
  },
  {
   "cell_type": "markdown",
   "id": "44e03c24-a38f-4bfb-9aa6-4e6e337f34e4",
   "metadata": {},
   "source": [
    "#  Create a function create_profile  that takes arguments for name, age, and city  as named arguments .The function should return a string like \"Name\":alice, Age:25, City:New York. Ensure that the age arguments has a default value of 18.\n"
   ]
  },
  {
   "cell_type": "code",
   "execution_count": 5,
   "id": "4b3a4040-20ac-4c1d-b846-ea32ad3de646",
   "metadata": {},
   "outputs": [
    {
     "name": "stdout",
     "output_type": "stream",
     "text": [
      "Name:Alice, Age:25, City:New York\n"
     ]
    }
   ],
   "source": [
    "def create_profile(*, name, age=18, city):\n",
    "    return f'Name:{name}, Age:{age}, City:{city}'\n",
    "\n",
    "# Example usage:\n",
    "print(create_profile(name='Alice', age=25, city='New York'))"
   ]
  },
  {
   "cell_type": "markdown",
   "id": "357d0b97-7d6d-4fd5-bcb9-f1e95befb4f7",
   "metadata": {},
   "source": [
    "# 3:- **Using *args and kwargs:"
   ]
  },
  {
   "cell_type": "markdown",
   "id": "261bcce3-8b6d-4182-a97b-ff75e67171ef",
   "metadata": {},
   "source": [
    "## Write a function  sum_number that takes any number in positional arguments(args) and keyword arguments(*kwargs) . It should\n",
    "\n",
    "## 1. Return  the sum of all *args if they are  numbers\n",
    "## 2. Return a dictionary all keywords arguments\n"
   ]
  },
  {
   "cell_type": "code",
   "execution_count": 6,
   "id": "32926907-3d75-47e3-b09e-5a29a713e161",
   "metadata": {},
   "outputs": [
    {
     "name": "stdout",
     "output_type": "stream",
     "text": [
      "11\n",
      "{'kwargs': {'a': 1, 'b': 2}}\n",
      "{'kwargs': {'a': 4, 'b': 5}}\n"
     ]
    }
   ],
   "source": [
    "def sum_number(*args, **kwargs):\n",
    "    # Sum of all args that are numbers\n",
    "    args_sum = sum(arg for arg in args if isinstance(arg, (int, float)))\n",
    "    \n",
    "    # Check if kwargs exist\n",
    "    if kwargs:\n",
    "        return {'kwargs': kwargs}\n",
    "    else:\n",
    "        return args_sum\n",
    "\n",
    "\n",
    "print(sum_number(1, 2, 3, \"a\", 5))  # Output: 11 (sum of numbers)\n",
    "print(sum_number(a=1, b=2))  # Output: {'kwargs': {'a': 1, 'b': 2}}\n",
    "print(sum_number(1, 2, 3, a=4, b=5))  # Output: {'kwargs': {'a': 4, 'b': 5}}\n"
   ]
  },
  {
   "cell_type": "markdown",
   "id": "1083dae0-b843-4868-97ae-a417418c6bad",
   "metadata": {},
   "source": [
    "#  4:- Lambdas and Map :"
   ]
  },
  {
   "cell_type": "markdown",
   "id": "92309a53-e0af-4cb5-92ee-103bc6ab2c66",
   "metadata": {},
   "source": [
    "## Write a function that uses map and a lambda to return a list where each element is squared"
   ]
  },
  {
   "cell_type": "code",
   "execution_count": 7,
   "id": "4383071c-4df5-4245-b6a0-ea99f893a808",
   "metadata": {},
   "outputs": [
    {
     "name": "stdout",
     "output_type": "stream",
     "text": [
      "[1, 4, 9, 16, 25]\n"
     ]
    }
   ],
   "source": [
    "def square_elements(lst):\n",
    "    return list(map(lambda x: x**2, lst))\n",
    "\n",
    "numbers = [1, 2, 3, 4, 5]\n",
    "squared_numbers = square_elements(numbers)\n",
    "print(squared_numbers)\n"
   ]
  },
  {
   "cell_type": "markdown",
   "id": "f17706d0-7495-4e2c-99de-be9cdb9d2859",
   "metadata": {},
   "source": [
    "# 5:- Filter and Lambdas :"
   ]
  },
  {
   "cell_type": "markdown",
   "id": "dc0eb202-d1d9-4242-acff-dfdd63c72f15",
   "metadata": {},
   "source": [
    "## Write a function that filters out all odd numbers from a list using filter and a lambda function"
   ]
  },
  {
   "cell_type": "code",
   "execution_count": 8,
   "id": "86b156f8-5e0c-4fa6-839f-b6065d891f49",
   "metadata": {},
   "outputs": [
    {
     "name": "stdout",
     "output_type": "stream",
     "text": [
      "[2, 4, 6, 8, 10]\n"
     ]
    }
   ],
   "source": [
    "def filter_out_odds(numbers):\n",
    "    return list(filter(lambda x: x % 2 == 0, numbers))\n",
    "\n",
    "numbers = [1, 2, 3, 4, 5, 6, 7, 8, 9, 10]\n",
    "filtered_numbers = filter_out_odds(numbers)\n",
    "print(filtered_numbers)  # Output: [2, 4, 6, 8, 10]\n"
   ]
  },
  {
   "cell_type": "markdown",
   "id": "90ed9efa-ef49-488c-8560-06d2da56b81a",
   "metadata": {},
   "source": [
    "# 6:- Basic List Comprehension :"
   ]
  },
  {
   "cell_type": "markdown",
   "id": "a5971b48-d245-4d29-8cfd-d376e3e641e2",
   "metadata": {},
   "source": [
    "## Create a list comprehension that takes a list of numbers and returns a list of their squares"
   ]
  },
  {
   "cell_type": "code",
   "execution_count": 9,
   "id": "260be2e2-ebdc-44d4-aa5b-d5975f711bea",
   "metadata": {},
   "outputs": [
    {
     "name": "stdout",
     "output_type": "stream",
     "text": [
      "[4, 16, 25, 49, 64]\n"
     ]
    }
   ],
   "source": [
    "def square_ele(val):\n",
    "    return [x**2 for x in val]\n",
    "\n",
    "n = [2,4,5,7,8,]\n",
    "square = square_ele(n)\n",
    "print(square)"
   ]
  },
  {
   "cell_type": "markdown",
   "id": "df943d3e-6a91-4236-8512-c37063de6251",
   "metadata": {},
   "source": [
    "# 7:- List Comprehension with Condition :"
   ]
  },
  {
   "cell_type": "markdown",
   "id": "fb78c893-fe87-4f7f-bcda-575774fe3465",
   "metadata": {},
   "source": [
    "# Use a list comprehension to create a list of even numbers from 1 to 20"
   ]
  },
  {
   "cell_type": "code",
   "execution_count": 12,
   "id": "8eb4cbab-2761-45cb-8dfb-2d639fd32efb",
   "metadata": {},
   "outputs": [
    {
     "name": "stdout",
     "output_type": "stream",
     "text": [
      "[2, 4, 6, 8, 10, 12, 14, 16, 18, 20]\n"
     ]
    }
   ],
   "source": [
    "even_numbers = [x for x in range(1, 21) if x % 2 == 0]\n",
    "print(even_numbers)\n"
   ]
  },
  {
   "cell_type": "markdown",
   "id": "f33385d9-0e73-4f7f-9cb6-27465ea432bb",
   "metadata": {},
   "source": [
    "# 8:- Using os and time Modules :"
   ]
  },
  {
   "cell_type": "markdown",
   "id": "b019d1e2-c4e5-40e3-80d8-a3d65c213536",
   "metadata": {},
   "source": [
    "# Write a function file_operations that creates a directory named \"test_folder\" using os.makedirs(). Then, pause the execution for 3 seconds using time.sleep(), and finally, delete the directory using os.rmdir()"
   ]
  },
  {
   "cell_type": "code",
   "execution_count": 14,
   "id": "58baa3f1-1d16-48f5-ae9d-bbaad40634ab",
   "metadata": {},
   "outputs": [
    {
     "name": "stdout",
     "output_type": "stream",
     "text": [
      "Directory 'test_folder' created.\n",
      "Directory 'test_folder' deleted.\n"
     ]
    }
   ],
   "source": [
    "import os\n",
    "import time\n",
    "\n",
    "def file_operations():\n",
    "    # Create the directory \"test_folder\"\n",
    "    os.makedirs(\"test_folder\", exist_ok=True)\n",
    "    print(\"Directory 'test_folder' created.\")\n",
    "    \n",
    "    # Pause execution for 3 seconds\n",
    "    time.sleep(3)\n",
    "    \n",
    "    # Delete the directory \"test_folder\"\n",
    "    os.rmdir(\"test_folder\")\n",
    "    print(\"Directory 'test_folder' deleted.\")\n",
    "\n",
    "# Call the function\n",
    "file_operations()\n"
   ]
  },
  {
   "cell_type": "markdown",
   "id": "7ea6dfbe-8309-4d24-b234-225b43a19677",
   "metadata": {},
   "source": [
    "# 9:-  Importing Specific Functions :"
   ]
  },
  {
   "cell_type": "markdown",
   "id": "f5e1f1c4-8bf4-4a37-93b6-b74f8fbd87c3",
   "metadata": {},
   "source": [
    "# Q. Write a Python script that imports only sleep from the time module and renames it to pause. Use it to pause execution for 2 seconds and print \"Paused execution...\""
   ]
  },
  {
   "cell_type": "code",
   "execution_count": 15,
   "id": "d92c6de8-4ffd-4d98-8825-68ab8e8dc22c",
   "metadata": {},
   "outputs": [
    {
     "name": "stdout",
     "output_type": "stream",
     "text": [
      "Paused execution...\n"
     ]
    }
   ],
   "source": [
    "from time import sleep as pause\n",
    "\n",
    "# Pause execution for 2 seconds\n",
    "pause(2)\n",
    "\n",
    "# Print message\n",
    "print(\"Paused execution...\")\n"
   ]
  },
  {
   "cell_type": "markdown",
   "id": "a5668f47-017e-4744-ba37-34320fc9379c",
   "metadata": {},
   "source": [
    "# 10:- **Recursive Function with args and kwargs (Flattening a List) :"
   ]
  },
  {
   "cell_type": "markdown",
   "id": "43ec7052-01ac-471a-aaec-8ff56b097714",
   "metadata": {},
   "source": [
    "# Write a recursive function flatten_list that can flatten a nested list of any depth using args and kwargs"
   ]
  },
  {
   "cell_type": "code",
   "execution_count": 16,
   "id": "eccd780f-75dc-43c2-9242-66ed49b97d39",
   "metadata": {},
   "outputs": [
    {
     "name": "stdout",
     "output_type": "stream",
     "text": [
      "[1, 2, 3, 4, 5, 6, 7, 8]\n"
     ]
    }
   ],
   "source": [
    "def flatten_list(*args):\n",
    "    flatten = []\n",
    "    for item in args:\n",
    "        if isinstance(item, list):\n",
    "            flatten.extend(flatten_list(*item))\n",
    "        else:\n",
    "            flatten.append(item)\n",
    "            \n",
    "    return flatten\n",
    "\n",
    "nested_list = [1, [2, [3, 4]], 5, [6, [7, [8]]]]\n",
    "flat_list = flatten_list(*nested_list)\n",
    "print(flat_list)"
   ]
  }
 ],
 "metadata": {
  "kernelspec": {
   "display_name": "Python 3 (ipykernel)",
   "language": "python",
   "name": "python3"
  },
  "language_info": {
   "codemirror_mode": {
    "name": "ipython",
    "version": 3
   },
   "file_extension": ".py",
   "mimetype": "text/x-python",
   "name": "python",
   "nbconvert_exporter": "python",
   "pygments_lexer": "ipython3",
   "version": "3.12.0"
  }
 },
 "nbformat": 4,
 "nbformat_minor": 5
}
